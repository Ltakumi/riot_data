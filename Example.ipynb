{
 "cells": [
  {
   "cell_type": "code",
   "execution_count": 1,
   "metadata": {
    "ExecuteTime": {
     "end_time": "2021-02-17T02:15:46.538013Z",
     "start_time": "2021-02-17T02:15:45.726476Z"
    }
   },
   "outputs": [],
   "source": [
    "%load_ext autoreload\n",
    "\n",
    "%autoreload 2\n",
    "\n",
    "from utils.player_database import player_db\n",
    "from utils.games_database import games_db\n",
    "import pandas as pd\n",
    "import numpy as np\n",
    "import matplotlib.pyplot as plt\n",
    "\n",
    "import os"
   ]
  },
  {
   "cell_type": "markdown",
   "metadata": {},
   "source": [
    "## General\n",
    "\n",
    "Choose a region and a path to where the data will be stored.\n",
    "Available regions are : ['ru', 'kr', 'oc1',  'jp1', 'na1', 'eun1', 'euw1', 'tr1', 'la1', 'la2']\n",
    "\n",
    "You will also need to provide an recent API key obtained from https://developer.riotgames.com/\n",
    "\n",
    "The following step will construct a small database, to complete it and run in on all regions in parallel use the run.py provided "
   ]
  },
  {
   "cell_type": "code",
   "execution_count": 2,
   "metadata": {
    "ExecuteTime": {
     "end_time": "2021-02-17T02:15:46.557168Z",
     "start_time": "2021-02-17T02:15:46.540257Z"
    }
   },
   "outputs": [],
   "source": [
    "region = 'euw1'\n",
    "\n",
    "key = \"RGAPI-cf6f8178-3ff3-4f4c-8e65-03c2a24c99e2\"\n",
    "\n",
    "path2db =  '/Users/ltakumi/Documents/data/league/db/'\n",
    "os.makedirs(path2db, exist_ok = True)\n",
    "\n",
    "# path to player database\n",
    "# if it already exist it will be loaded thus we don't lose previous work\n",
    "path2playerdb = path2db + region + '_playerdb.csv'\n",
    "\n",
    "# path to game database\n",
    "# if it already exist it will be loaded thus we don't lose previous work\n",
    "path2gamesdb = path2db + region + '_gamesdb.csv'\n",
    "\n",
    "# path to games\n",
    "path2games = '/Users/ltakumi/Documents/data/league/games/'\n",
    "os.makedirs(path2games, exist_ok = True)"
   ]
  },
  {
   "cell_type": "markdown",
   "metadata": {},
   "source": [
    "## Player database\n",
    "\n",
    "We construct a database of players from the region\n",
    "\n",
    "Parameters are : divisions and a number of players per division\n",
    "\n",
    "Divisions is a list of division, constructed from :\n",
    "\n",
    "    - 'CHALLENGER_I', 'GRANDMASTER_I', 'MASTER_I'\n",
    "    - 'DIAMOND_I', 'DIAMOND_II', 'DIAMOND_III', 'DIAMOND_IV'\n",
    "    - 'PLATINUM_', 'GOLD_', 'SILVER_', 'BRONZE_', 'IRON_' and 'I', 'II', 'III', 'IV' as above\n",
    "    \n",
    "In the original example below, we extract 3 challengers, grandmasters and masters, and 1 for each division below. "
   ]
  },
  {
   "cell_type": "code",
   "execution_count": 3,
   "metadata": {
    "ExecuteTime": {
     "end_time": "2021-02-17T02:17:07.562875Z",
     "start_time": "2021-02-17T02:15:46.561605Z"
    },
    "scrolled": true
   },
   "outputs": [
    {
     "name": "stdout",
     "output_type": "stream",
     "text": [
      "Region: euw1 Tier: CHALLENGER Division: I\n"
     ]
    },
    {
     "name": "stderr",
     "output_type": "stream",
     "text": [
      "100%|██████████| 3/3 [00:04<00:00,  1.37s/it]\n"
     ]
    },
    {
     "name": "stdout",
     "output_type": "stream",
     "text": [
      "Region: euw1 Tier: GRANDMASTER Division: I\n"
     ]
    },
    {
     "name": "stderr",
     "output_type": "stream",
     "text": [
      "100%|██████████| 3/3 [00:03<00:00,  1.12s/it]\n"
     ]
    },
    {
     "name": "stdout",
     "output_type": "stream",
     "text": [
      "Region: euw1 Tier: MASTER Division: I\n"
     ]
    },
    {
     "name": "stderr",
     "output_type": "stream",
     "text": [
      "100%|██████████| 3/3 [00:03<00:00,  1.24s/it]\n"
     ]
    },
    {
     "name": "stdout",
     "output_type": "stream",
     "text": [
      "Region: euw1 over, saved to /Users/ltakumi/Documents/data/league/db/euw1_playerdb.csv\n",
      "Region: euw1 Tier: DIAMOND Division: I\n"
     ]
    },
    {
     "name": "stderr",
     "output_type": "stream",
     "text": [
      "100%|██████████| 1/1 [00:01<00:00,  1.20s/it]\n"
     ]
    },
    {
     "name": "stdout",
     "output_type": "stream",
     "text": [
      "Region: euw1 Tier: DIAMOND Division: II\n"
     ]
    },
    {
     "name": "stderr",
     "output_type": "stream",
     "text": [
      "100%|██████████| 1/1 [00:01<00:00,  1.16s/it]\n"
     ]
    },
    {
     "name": "stdout",
     "output_type": "stream",
     "text": [
      "Region: euw1 Tier: DIAMOND Division: III\n"
     ]
    },
    {
     "name": "stderr",
     "output_type": "stream",
     "text": [
      "100%|██████████| 1/1 [00:01<00:00,  1.36s/it]\n"
     ]
    },
    {
     "name": "stdout",
     "output_type": "stream",
     "text": [
      "Region: euw1 Tier: DIAMOND Division: IV\n"
     ]
    },
    {
     "name": "stderr",
     "output_type": "stream",
     "text": [
      "100%|██████████| 1/1 [00:01<00:00,  1.16s/it]\n"
     ]
    },
    {
     "name": "stdout",
     "output_type": "stream",
     "text": [
      "Region: euw1 Tier: PLATINUM Division: I\n"
     ]
    },
    {
     "name": "stderr",
     "output_type": "stream",
     "text": [
      "100%|██████████| 1/1 [00:01<00:00,  1.24s/it]\n"
     ]
    },
    {
     "name": "stdout",
     "output_type": "stream",
     "text": [
      "Region: euw1 Tier: PLATINUM Division: II\n"
     ]
    },
    {
     "name": "stderr",
     "output_type": "stream",
     "text": [
      "100%|██████████| 1/1 [00:01<00:00,  1.25s/it]\n"
     ]
    },
    {
     "name": "stdout",
     "output_type": "stream",
     "text": [
      "Region: euw1 Tier: PLATINUM Division: III\n"
     ]
    },
    {
     "name": "stderr",
     "output_type": "stream",
     "text": [
      "100%|██████████| 1/1 [00:01<00:00,  1.31s/it]\n"
     ]
    },
    {
     "name": "stdout",
     "output_type": "stream",
     "text": [
      "Region: euw1 Tier: PLATINUM Division: IV\n"
     ]
    },
    {
     "name": "stderr",
     "output_type": "stream",
     "text": [
      "100%|██████████| 1/1 [00:01<00:00,  1.17s/it]\n"
     ]
    },
    {
     "name": "stdout",
     "output_type": "stream",
     "text": [
      "Region: euw1 Tier: GOLD Division: I\n"
     ]
    },
    {
     "name": "stderr",
     "output_type": "stream",
     "text": [
      "100%|██████████| 1/1 [00:01<00:00,  1.12s/it]\n"
     ]
    },
    {
     "name": "stdout",
     "output_type": "stream",
     "text": [
      "Region: euw1 Tier: GOLD Division: II\n"
     ]
    },
    {
     "name": "stderr",
     "output_type": "stream",
     "text": [
      "100%|██████████| 1/1 [00:01<00:00,  1.20s/it]\n"
     ]
    },
    {
     "name": "stdout",
     "output_type": "stream",
     "text": [
      "Region: euw1 Tier: GOLD Division: III\n"
     ]
    },
    {
     "name": "stderr",
     "output_type": "stream",
     "text": [
      "100%|██████████| 1/1 [00:01<00:00,  1.24s/it]\n"
     ]
    },
    {
     "name": "stdout",
     "output_type": "stream",
     "text": [
      "Region: euw1 Tier: GOLD Division: IV\n"
     ]
    },
    {
     "name": "stderr",
     "output_type": "stream",
     "text": [
      "100%|██████████| 1/1 [00:01<00:00,  1.21s/it]\n"
     ]
    },
    {
     "name": "stdout",
     "output_type": "stream",
     "text": [
      "Region: euw1 Tier: SILVER Division: I\n"
     ]
    },
    {
     "name": "stderr",
     "output_type": "stream",
     "text": [
      "100%|██████████| 1/1 [00:01<00:00,  1.33s/it]\n"
     ]
    },
    {
     "name": "stdout",
     "output_type": "stream",
     "text": [
      "Region: euw1 Tier: SILVER Division: II\n"
     ]
    },
    {
     "name": "stderr",
     "output_type": "stream",
     "text": [
      "100%|██████████| 1/1 [00:01<00:00,  1.13s/it]\n"
     ]
    },
    {
     "name": "stdout",
     "output_type": "stream",
     "text": [
      "Region: euw1 Tier: SILVER Division: III\n"
     ]
    },
    {
     "name": "stderr",
     "output_type": "stream",
     "text": [
      "100%|██████████| 1/1 [00:01<00:00,  1.08s/it]\n"
     ]
    },
    {
     "name": "stdout",
     "output_type": "stream",
     "text": [
      "Region: euw1 Tier: SILVER Division: IV\n"
     ]
    },
    {
     "name": "stderr",
     "output_type": "stream",
     "text": [
      "100%|██████████| 1/1 [00:01<00:00,  1.21s/it]\n"
     ]
    },
    {
     "name": "stdout",
     "output_type": "stream",
     "text": [
      "Region: euw1 Tier: BRONZE Division: I\n"
     ]
    },
    {
     "name": "stderr",
     "output_type": "stream",
     "text": [
      "100%|██████████| 1/1 [00:01<00:00,  1.12s/it]\n"
     ]
    },
    {
     "name": "stdout",
     "output_type": "stream",
     "text": [
      "Region: euw1 Tier: BRONZE Division: II\n"
     ]
    },
    {
     "name": "stderr",
     "output_type": "stream",
     "text": [
      "100%|██████████| 1/1 [00:01<00:00,  1.34s/it]\n"
     ]
    },
    {
     "name": "stdout",
     "output_type": "stream",
     "text": [
      "Region: euw1 Tier: BRONZE Division: III\n"
     ]
    },
    {
     "name": "stderr",
     "output_type": "stream",
     "text": [
      "100%|██████████| 1/1 [00:01<00:00,  1.22s/it]\n"
     ]
    },
    {
     "name": "stdout",
     "output_type": "stream",
     "text": [
      "Region: euw1 Tier: BRONZE Division: IV\n"
     ]
    },
    {
     "name": "stderr",
     "output_type": "stream",
     "text": [
      "100%|██████████| 1/1 [00:01<00:00,  1.34s/it]\n"
     ]
    },
    {
     "name": "stdout",
     "output_type": "stream",
     "text": [
      "Region: euw1 Tier: IRON Division: I\n"
     ]
    },
    {
     "name": "stderr",
     "output_type": "stream",
     "text": [
      "100%|██████████| 1/1 [00:01<00:00,  1.10s/it]\n"
     ]
    },
    {
     "name": "stdout",
     "output_type": "stream",
     "text": [
      "Region: euw1 Tier: IRON Division: II\n"
     ]
    },
    {
     "name": "stderr",
     "output_type": "stream",
     "text": [
      "100%|██████████| 1/1 [00:01<00:00,  1.23s/it]\n"
     ]
    },
    {
     "name": "stdout",
     "output_type": "stream",
     "text": [
      "Region: euw1 Tier: IRON Division: III\n"
     ]
    },
    {
     "name": "stderr",
     "output_type": "stream",
     "text": [
      "100%|██████████| 1/1 [00:01<00:00,  1.15s/it]\n"
     ]
    },
    {
     "name": "stdout",
     "output_type": "stream",
     "text": [
      "Region: euw1 Tier: IRON Division: IV\n"
     ]
    },
    {
     "name": "stderr",
     "output_type": "stream",
     "text": [
      "100%|██████████| 1/1 [00:01<00:00,  1.22s/it]"
     ]
    },
    {
     "name": "stdout",
     "output_type": "stream",
     "text": [
      "Region: euw1 over, saved to /Users/ltakumi/Documents/data/league/db/euw1_playerdb.csv\n"
     ]
    },
    {
     "name": "stderr",
     "output_type": "stream",
     "text": [
      "\n"
     ]
    }
   ],
   "source": [
    "# create the database\n",
    "player_database = player_db(key, path2playerdb, region, freshapi=True)\n",
    "\n",
    "# 10 players for first 3 divisions\n",
    "divisions = ['CHALLENGER_I', 'GRANDMASTER_I', 'MASTER_I']\n",
    "player_database.update_players_db(divisions=divisions, max_players=3)\n",
    "\n",
    "# 3 players for the other divisions\n",
    "tiers = ['DIAMOND', 'PLATINUM', 'GOLD', 'SILVER', 'BRONZE', 'IRON']\n",
    "divisions = [i + '_' + j for i in tiers for j in ['I', 'II', 'III', 'IV']]\n",
    "player_database.update_players_db(divisions=divisions, max_players=1)"
   ]
  },
  {
   "cell_type": "markdown",
   "metadata": {},
   "source": [
    "## Game database\n",
    "\n",
    "For the players found in the previous step, we first find a certain number of games on the requested patches\n",
    "\n",
    "In the example below, we take all games for patch 10.19\n",
    "\n",
    "Then, we download information + timelines for each game"
   ]
  },
  {
   "cell_type": "code",
   "execution_count": 4,
   "metadata": {
    "ExecuteTime": {
     "end_time": "2021-02-17T02:18:48.788690Z",
     "start_time": "2021-02-17T02:17:07.564545Z"
    }
   },
   "outputs": [
    {
     "name": "stderr",
     "output_type": "stream",
     "text": [
      "\r",
      "  0%|          | 0/33 [00:00<?, ?it/s]"
     ]
    },
    {
     "name": "stdout",
     "output_type": "stream",
     "text": [
      "Region: euw1 Patch: 10.19 33 players\n"
     ]
    },
    {
     "name": "stderr",
     "output_type": "stream",
     "text": [
      "100%|██████████| 33/33 [01:40<00:00,  3.05s/it]"
     ]
    },
    {
     "name": "stdout",
     "output_type": "stream",
     "text": [
      "Region: euw1 Patch: 10.19 1238 new games, saved to /Users/ltakumi/Documents/data/league/db/euw1_gamesdb.csv\n"
     ]
    },
    {
     "name": "stderr",
     "output_type": "stream",
     "text": [
      "\n"
     ]
    }
   ],
   "source": [
    "# find games for patch 10.19\n",
    "\n",
    "games_database = games_db(key, path2gamesdb, region, freshapi=True)\n",
    "games_database.update_games(path2playerdb, ['10.19'])"
   ]
  },
  {
   "cell_type": "code",
   "execution_count": 5,
   "metadata": {
    "ExecuteTime": {
     "end_time": "2021-02-17T03:10:20.208292Z",
     "start_time": "2021-02-17T02:18:48.790353Z"
    },
    "scrolled": true
   },
   "outputs": [
    {
     "name": "stderr",
     "output_type": "stream",
     "text": [
      " 18%|█▊        | 221/1238 [10:01<41:44,  2.46s/it] "
     ]
    },
    {
     "name": "stdout",
     "output_type": "stream",
     "text": [
      "Checkpoint saved\n"
     ]
    },
    {
     "name": "stderr",
     "output_type": "stream",
     "text": [
      " 38%|███▊      | 469/1238 [20:03<29:38,  2.31s/it]"
     ]
    },
    {
     "name": "stdout",
     "output_type": "stream",
     "text": [
      "Checkpoint saved\n"
     ]
    },
    {
     "name": "stderr",
     "output_type": "stream",
     "text": [
      " 58%|█████▊    | 715/1238 [30:04<21:16,  2.44s/it]"
     ]
    },
    {
     "name": "stdout",
     "output_type": "stream",
     "text": [
      "Checkpoint saved\n"
     ]
    },
    {
     "name": "stderr",
     "output_type": "stream",
     "text": [
      " 77%|███████▋  | 959/1238 [40:05<11:24,  2.45s/it]"
     ]
    },
    {
     "name": "stdout",
     "output_type": "stream",
     "text": [
      "Checkpoint saved\n"
     ]
    },
    {
     "name": "stderr",
     "output_type": "stream",
     "text": [
      " 97%|█████████▋| 1207/1238 [50:05<01:20,  2.58s/it]"
     ]
    },
    {
     "name": "stdout",
     "output_type": "stream",
     "text": [
      "Checkpoint saved\n"
     ]
    },
    {
     "name": "stderr",
     "output_type": "stream",
     "text": [
      "100%|██████████| 1238/1238 [51:31<00:00,  2.50s/it]\n"
     ]
    }
   ],
   "source": [
    "# download games\n",
    "# here we download timeline too\n",
    "\n",
    "games_database = games_db(key, path2gamesdb, region, freshapi=True)\n",
    "games_database.download_games(path2games, index=None, gameinfo=True, timeline=True)"
   ]
  },
  {
   "cell_type": "markdown",
   "metadata": {},
   "source": [
    "## Results \n",
    "\n",
    "Below you can find samples of the data. \n",
    "Gameinfo are quite large dictionnaries (>400 keys in total), and timelines are "
   ]
  },
  {
   "cell_type": "code",
   "execution_count": 39,
   "metadata": {
    "ExecuteTime": {
     "end_time": "2021-02-17T03:34:31.435062Z",
     "start_time": "2021-02-17T03:34:31.399276Z"
    }
   },
   "outputs": [],
   "source": [
    "players = pd.read_csv(path2playerdb)\n",
    "games = pd.read_csv(path2gamesdb)\n",
    "\n",
    "gameinfo = json.load(open(games['gameinfo'][0], 'r'))\n",
    "\n",
    "timeline = json.load(open(games['timeline'][0], 'r'))"
   ]
  },
  {
   "cell_type": "code",
   "execution_count": 40,
   "metadata": {
    "ExecuteTime": {
     "end_time": "2021-02-17T03:34:33.200419Z",
     "start_time": "2021-02-17T03:34:33.160482Z"
    }
   },
   "outputs": [
    {
     "data": {
      "text/html": [
       "<div>\n",
       "<style scoped>\n",
       "    .dataframe tbody tr th:only-of-type {\n",
       "        vertical-align: middle;\n",
       "    }\n",
       "\n",
       "    .dataframe tbody tr th {\n",
       "        vertical-align: top;\n",
       "    }\n",
       "\n",
       "    .dataframe thead th {\n",
       "        text-align: right;\n",
       "    }\n",
       "</style>\n",
       "<table border=\"1\" class=\"dataframe\">\n",
       "  <thead>\n",
       "    <tr style=\"text-align: right;\">\n",
       "      <th></th>\n",
       "      <th>accountId</th>\n",
       "      <th>summonerId</th>\n",
       "      <th>summonerName</th>\n",
       "      <th>tier</th>\n",
       "      <th>rank</th>\n",
       "      <th>leaguePoints</th>\n",
       "      <th>wins</th>\n",
       "      <th>losses</th>\n",
       "      <th>updated</th>\n",
       "    </tr>\n",
       "  </thead>\n",
       "  <tbody>\n",
       "    <tr>\n",
       "      <th>0</th>\n",
       "      <td>8rgbKb8fyLXWIylU-oe2RQK3VcO07BSWd2h9sMkhu1o0wg</td>\n",
       "      <td>IoqDH_UtMJ-Q9mleqrO7_O-IfSKLzRhbuJa8XbV2wSF6mUs</td>\n",
       "      <td>Lathyrus</td>\n",
       "      <td>CHALLENGER</td>\n",
       "      <td>I</td>\n",
       "      <td>1205</td>\n",
       "      <td>179</td>\n",
       "      <td>138</td>\n",
       "      <td>2021-02-17 11:15:49</td>\n",
       "    </tr>\n",
       "    <tr>\n",
       "      <th>1</th>\n",
       "      <td>1LrB-jBBUuLojtzxBQblQl5rex82HagBmdFngXKfsPh8xg</td>\n",
       "      <td>DyqUpBOYe6DRRipq1KGF0soO6kMF9ZzonkAutjq8de6Vzt8</td>\n",
       "      <td>Blοws a bit</td>\n",
       "      <td>CHALLENGER</td>\n",
       "      <td>I</td>\n",
       "      <td>1182</td>\n",
       "      <td>132</td>\n",
       "      <td>91</td>\n",
       "      <td>2021-02-17 11:15:50</td>\n",
       "    </tr>\n",
       "    <tr>\n",
       "      <th>2</th>\n",
       "      <td>eGyZ7N-UJ6fCDvhoHuMrWNaliA5dk8wdIAFU3E8Vq0dCMQ</td>\n",
       "      <td>alpBlHsrxFGV2Dxqu4oxoord0zCfq0XxnkJDNpogDEJJD0I</td>\n",
       "      <td>Agurin</td>\n",
       "      <td>CHALLENGER</td>\n",
       "      <td>I</td>\n",
       "      <td>1156</td>\n",
       "      <td>132</td>\n",
       "      <td>90</td>\n",
       "      <td>2021-02-17 11:15:52</td>\n",
       "    </tr>\n",
       "  </tbody>\n",
       "</table>\n",
       "</div>"
      ],
      "text/plain": [
       "                                        accountId  \\\n",
       "0  8rgbKb8fyLXWIylU-oe2RQK3VcO07BSWd2h9sMkhu1o0wg   \n",
       "1  1LrB-jBBUuLojtzxBQblQl5rex82HagBmdFngXKfsPh8xg   \n",
       "2  eGyZ7N-UJ6fCDvhoHuMrWNaliA5dk8wdIAFU3E8Vq0dCMQ   \n",
       "\n",
       "                                        summonerId summonerName        tier  \\\n",
       "0  IoqDH_UtMJ-Q9mleqrO7_O-IfSKLzRhbuJa8XbV2wSF6mUs     Lathyrus  CHALLENGER   \n",
       "1  DyqUpBOYe6DRRipq1KGF0soO6kMF9ZzonkAutjq8de6Vzt8  Blοws a bit  CHALLENGER   \n",
       "2  alpBlHsrxFGV2Dxqu4oxoord0zCfq0XxnkJDNpogDEJJD0I       Agurin  CHALLENGER   \n",
       "\n",
       "  rank  leaguePoints  wins  losses              updated  \n",
       "0    I          1205   179     138  2021-02-17 11:15:49  \n",
       "1    I          1182   132      91  2021-02-17 11:15:50  \n",
       "2    I          1156   132      90  2021-02-17 11:15:52  "
      ]
     },
     "metadata": {},
     "output_type": "display_data"
    },
    {
     "data": {
      "text/html": [
       "<div>\n",
       "<style scoped>\n",
       "    .dataframe tbody tr th:only-of-type {\n",
       "        vertical-align: middle;\n",
       "    }\n",
       "\n",
       "    .dataframe tbody tr th {\n",
       "        vertical-align: top;\n",
       "    }\n",
       "\n",
       "    .dataframe thead th {\n",
       "        text-align: right;\n",
       "    }\n",
       "</style>\n",
       "<table border=\"1\" class=\"dataframe\">\n",
       "  <thead>\n",
       "    <tr style=\"text-align: right;\">\n",
       "      <th></th>\n",
       "      <th>platformId</th>\n",
       "      <th>gameId</th>\n",
       "      <th>queue</th>\n",
       "      <th>timestamp</th>\n",
       "      <th>tier</th>\n",
       "      <th>rank</th>\n",
       "      <th>patch</th>\n",
       "      <th>updated</th>\n",
       "      <th>gameinfo</th>\n",
       "      <th>timeline</th>\n",
       "    </tr>\n",
       "  </thead>\n",
       "  <tbody>\n",
       "    <tr>\n",
       "      <th>0</th>\n",
       "      <td>EUW1</td>\n",
       "      <td>4829518181</td>\n",
       "      <td>420</td>\n",
       "      <td>1600794891675</td>\n",
       "      <td>CHALLENGER</td>\n",
       "      <td>I</td>\n",
       "      <td>10.19</td>\n",
       "      <td>2021-02-17 11:17:10</td>\n",
       "      <td>/Users/ltakumi/Documents/data/league/games/euw...</td>\n",
       "      <td>/Users/ltakumi/Documents/data/league/games/euw...</td>\n",
       "    </tr>\n",
       "    <tr>\n",
       "      <th>1</th>\n",
       "      <td>EUW1</td>\n",
       "      <td>4829453463</td>\n",
       "      <td>420</td>\n",
       "      <td>1600792923381</td>\n",
       "      <td>CHALLENGER</td>\n",
       "      <td>I</td>\n",
       "      <td>10.19</td>\n",
       "      <td>2021-02-17 11:17:10</td>\n",
       "      <td>/Users/ltakumi/Documents/data/league/games/euw...</td>\n",
       "      <td>/Users/ltakumi/Documents/data/league/games/euw...</td>\n",
       "    </tr>\n",
       "    <tr>\n",
       "      <th>2</th>\n",
       "      <td>EUW1</td>\n",
       "      <td>4829334829</td>\n",
       "      <td>420</td>\n",
       "      <td>1600790078337</td>\n",
       "      <td>CHALLENGER</td>\n",
       "      <td>I</td>\n",
       "      <td>10.19</td>\n",
       "      <td>2021-02-17 11:17:10</td>\n",
       "      <td>/Users/ltakumi/Documents/data/league/games/euw...</td>\n",
       "      <td>/Users/ltakumi/Documents/data/league/games/euw...</td>\n",
       "    </tr>\n",
       "  </tbody>\n",
       "</table>\n",
       "</div>"
      ],
      "text/plain": [
       "  platformId      gameId  queue      timestamp        tier rank  patch  \\\n",
       "0       EUW1  4829518181    420  1600794891675  CHALLENGER    I  10.19   \n",
       "1       EUW1  4829453463    420  1600792923381  CHALLENGER    I  10.19   \n",
       "2       EUW1  4829334829    420  1600790078337  CHALLENGER    I  10.19   \n",
       "\n",
       "               updated                                           gameinfo  \\\n",
       "0  2021-02-17 11:17:10  /Users/ltakumi/Documents/data/league/games/euw...   \n",
       "1  2021-02-17 11:17:10  /Users/ltakumi/Documents/data/league/games/euw...   \n",
       "2  2021-02-17 11:17:10  /Users/ltakumi/Documents/data/league/games/euw...   \n",
       "\n",
       "                                            timeline  \n",
       "0  /Users/ltakumi/Documents/data/league/games/euw...  \n",
       "1  /Users/ltakumi/Documents/data/league/games/euw...  \n",
       "2  /Users/ltakumi/Documents/data/league/games/euw...  "
      ]
     },
     "metadata": {},
     "output_type": "display_data"
    }
   ],
   "source": [
    "# sample from playerdb\n",
    "display(players.head(3))\n",
    "\n",
    "# sample from gamedb\n",
    "display(games.head(3))"
   ]
  },
  {
   "cell_type": "code",
   "execution_count": 57,
   "metadata": {
    "ExecuteTime": {
     "end_time": "2021-02-17T03:40:51.542012Z",
     "start_time": "2021-02-17T03:40:51.513135Z"
    },
    "scrolled": false
   },
   "outputs": [
    {
     "name": "stdout",
     "output_type": "stream",
     "text": [
      "bans\n"
     ]
    },
    {
     "data": {
      "text/plain": [
       "[{'championId': 121, 'pickTurn': 1},\n",
       " {'championId': 80, 'pickTurn': 2},\n",
       " {'championId': 38, 'pickTurn': 3},\n",
       " {'championId': 236, 'pickTurn': 4},\n",
       " {'championId': 20, 'pickTurn': 5}]"
      ]
     },
     "metadata": {},
     "output_type": "display_data"
    },
    {
     "name": "stdout",
     "output_type": "stream",
     "text": [
      "player 1\n"
     ]
    },
    {
     "data": {
      "text/plain": [
       "{'kills': 7,\n",
       " 'deaths': 1,\n",
       " 'assists': 7,\n",
       " 'largestKillingSpree': 4,\n",
       " 'largestMultiKill': 2,\n",
       " 'killingSprees': 2,\n",
       " 'longestTimeSpentLiving': 960,\n",
       " 'doubleKills': 1,\n",
       " 'tripleKills': 0,\n",
       " 'quadraKills': 0,\n",
       " 'pentaKills': 0,\n",
       " 'unrealKills': 0,\n",
       " 'totalDamageDealt': 119069,\n",
       " 'magicDamageDealt': 12264,\n",
       " 'physicalDamageDealt': 94613,\n",
       " 'trueDamageDealt': 12192,\n",
       " 'largestCriticalStrike': 0,\n",
       " 'totalDamageDealtToChampions': 11846,\n",
       " 'magicDamageDealtToChampions': 1364,\n",
       " 'physicalDamageDealtToChampions': 10334,\n",
       " 'trueDamageDealtToChampions': 148}"
      ]
     },
     "metadata": {},
     "output_type": "display_data"
    }
   ],
   "source": [
    "# example of informations you can extract\n",
    "\n",
    "# bans\n",
    "print('bans')\n",
    "display(gameinfo['teams'][0]['bans'])\n",
    "\n",
    "# some post games stats on a player \n",
    "print('player 1')\n",
    "player = gameinfo['participants'][0]['stats']\n",
    "display({i:player[i] for i in list(player.keys())[9:30]})"
   ]
  },
  {
   "cell_type": "code",
   "execution_count": 70,
   "metadata": {
    "ExecuteTime": {
     "end_time": "2021-02-17T03:44:08.804309Z",
     "start_time": "2021-02-17T03:44:08.780659Z"
    },
    "scrolled": true
   },
   "outputs": [
    {
     "name": "stdout",
     "output_type": "stream",
     "text": [
      "[\n",
      "  {\n",
      "    \"type\": \"WARD_PLACED\",\n",
      "    \"timestamp\": 75343,\n",
      "    \"wardType\": \"UNDEFINED\",\n",
      "    \"creatorId\": 7\n",
      "  },\n",
      "  {\n",
      "    \"type\": \"WARD_PLACED\",\n",
      "    \"timestamp\": 75343,\n",
      "    \"wardType\": \"UNDEFINED\",\n",
      "    \"creatorId\": 0\n",
      "  },\n",
      "  {\n",
      "    \"type\": \"SKILL_LEVEL_UP\",\n",
      "    \"timestamp\": 76565,\n",
      "    \"participantId\": 6,\n",
      "    \"skillSlot\": 3,\n",
      "    \"levelUpType\": \"NORMAL\"\n",
      "  },\n",
      "  {\n",
      "    \"type\": \"WARD_KILL\",\n",
      "    \"timestamp\": 82874,\n",
      "    \"wardType\": \"YELLOW_TRINKET\",\n",
      "    \"killerId\": 1\n",
      "  },\n",
      "  {\n",
      "    \"type\": \"WARD_PLACED\",\n",
      "    \"timestamp\": 85451,\n",
      "    \"wardType\": \"YELLOW_TRINKET\",\n",
      "    \"creatorId\": 5\n",
      "  },\n",
      "  {\n",
      "    \"type\": \"SKILL_LEVEL_UP\",\n",
      "    \"timestamp\": 89383,\n",
      "    \"participantId\": 1,\n",
      "    \"skillSlot\": 1,\n",
      "    \"levelUpType\": \"NORMAL\"\n",
      "  },\n",
      "  {\n",
      "    \"type\": \"SKILL_LEVEL_UP\",\n",
      "    \"timestamp\": 90671,\n",
      "    \"participantId\": 2,\n",
      "    \"skillSlot\": 1,\n",
      "    \"levelUpType\": \"NORMAL\"\n",
      "  },\n",
      "  {\n",
      "    \"type\": \"SKILL_LEVEL_UP\",\n",
      "    \"timestamp\": 97146,\n",
      "    \"participantId\": 3,\n",
      "    \"skillSlot\": 1,\n",
      "    \"levelUpType\": \"NORMAL\"\n",
      "  },\n",
      "  {\n",
      "    \"type\": \"SKILL_LEVEL_UP\",\n",
      "    \"timestamp\": 102564,\n",
      "    \"participantId\": 5,\n",
      "    \"skillSlot\": 3,\n",
      "    \"levelUpType\": \"NORMAL\"\n",
      "  },\n",
      "  {\n",
      "    \"type\": \"SKILL_LEVEL_UP\",\n",
      "    \"timestamp\": 104315,\n",
      "    \"participantId\": 9,\n",
      "    \"skillSlot\": 1,\n",
      "    \"levelUpType\": \"NORMAL\"\n",
      "  },\n",
      "  {\n",
      "    \"type\": \"SKILL_LEVEL_UP\",\n",
      "    \"timestamp\": 104712,\n",
      "    \"participantId\": 10,\n",
      "    \"skillSlot\": 2,\n",
      "    \"levelUpType\": \"NORMAL\"\n",
      "  },\n",
      "  {\n",
      "    \"type\": \"SKILL_LEVEL_UP\",\n",
      "    \"timestamp\": 107653,\n",
      "    \"participantId\": 8,\n",
      "    \"skillSlot\": 1,\n",
      "    \"levelUpType\": \"NORMAL\"\n",
      "  },\n",
      "  {\n",
      "    \"type\": \"SKILL_LEVEL_UP\",\n",
      "    \"timestamp\": 115748,\n",
      "    \"participantId\": 1,\n",
      "    \"skillSlot\": 2,\n",
      "    \"levelUpType\": \"NORMAL\"\n",
      "  }\n",
      "]\n"
     ]
    }
   ],
   "source": [
    "# all events that happened during a specific frame (mostly wards and level ups)\n",
    "\n",
    "print(json.dumps(timeline['frames'][2]['events'], indent=2))"
   ]
  }
 ],
 "metadata": {
  "kernelspec": {
   "display_name": "Python 3",
   "language": "python",
   "name": "python3"
  },
  "language_info": {
   "codemirror_mode": {
    "name": "ipython",
    "version": 3
   },
   "file_extension": ".py",
   "mimetype": "text/x-python",
   "name": "python",
   "nbconvert_exporter": "python",
   "pygments_lexer": "ipython3",
   "version": "3.8.5"
  },
  "toc": {
   "base_numbering": 1,
   "nav_menu": {},
   "number_sections": true,
   "sideBar": true,
   "skip_h1_title": false,
   "title_cell": "Table of Contents",
   "title_sidebar": "Contents",
   "toc_cell": false,
   "toc_position": {},
   "toc_section_display": true,
   "toc_window_display": false
  }
 },
 "nbformat": 4,
 "nbformat_minor": 4
}
